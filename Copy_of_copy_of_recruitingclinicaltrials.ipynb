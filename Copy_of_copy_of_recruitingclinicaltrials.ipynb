{
  "nbformat": 4,
  "nbformat_minor": 0,
  "metadata": {
    "colab": {
      "provenance": []
    },
    "kernelspec": {
      "name": "python3",
      "display_name": "Python 3"
    },
    "widgets": {
      "application/vnd.jupyter.widget-state+json": {
        "6699c2ad008e448299d53abbf486daed": {
          "model_module": "@jupyter-widgets/controls",
          "model_name": "VBoxModel",
          "model_module_version": "1.5.0",
          "state": {
            "_dom_classes": [
              "widget-interact"
            ],
            "_model_module": "@jupyter-widgets/controls",
            "_model_module_version": "1.5.0",
            "_model_name": "VBoxModel",
            "_view_count": null,
            "_view_module": "@jupyter-widgets/controls",
            "_view_module_version": "1.5.0",
            "_view_name": "VBoxView",
            "box_style": "",
            "children": [
              "IPY_MODEL_30513864e39b4d2096609c85440708f7",
              "IPY_MODEL_21cb65a65a204d629e2975836e78367f",
              "IPY_MODEL_3b222b679d344aedabe7f265e61bfc56"
            ],
            "layout": "IPY_MODEL_cc1c4b03752d44ba992553fa5d3b1d04"
          }
        },
        "30513864e39b4d2096609c85440708f7": {
          "model_module": "@jupyter-widgets/controls",
          "model_name": "TextModel",
          "model_module_version": "1.5.0",
          "state": {
            "_dom_classes": [],
            "_model_module": "@jupyter-widgets/controls",
            "_model_module_version": "1.5.0",
            "_model_name": "TextModel",
            "_view_count": null,
            "_view_module": "@jupyter-widgets/controls",
            "_view_module_version": "1.5.0",
            "_view_name": "TextView",
            "continuous_update": true,
            "description": "column",
            "description_tooltip": null,
            "disabled": false,
            "layout": "IPY_MODEL_3dc82c6fe20346629971d6349af14155",
            "placeholder": "​",
            "style": "IPY_MODEL_e46cad969a2c4b59afd8e7b6a8d4ca07",
            "value": "OverallStatus"
          }
        },
        "21cb65a65a204d629e2975836e78367f": {
          "model_module": "@jupyter-widgets/controls",
          "model_name": "TextModel",
          "model_module_version": "1.5.0",
          "state": {
            "_dom_classes": [],
            "_model_module": "@jupyter-widgets/controls",
            "_model_module_version": "1.5.0",
            "_model_name": "TextModel",
            "_view_count": null,
            "_view_module": "@jupyter-widgets/controls",
            "_view_module_version": "1.5.0",
            "_view_name": "TextView",
            "continuous_update": true,
            "description": "x",
            "description_tooltip": null,
            "disabled": false,
            "layout": "IPY_MODEL_1f9a2eb1235f47bebe4061db2ec8fe83",
            "placeholder": "​",
            "style": "IPY_MODEL_b3f2d1eee2fa45bfb031b9cacdbcf6d6",
            "value": "Recruiting"
          }
        },
        "3b222b679d344aedabe7f265e61bfc56": {
          "model_module": "@jupyter-widgets/output",
          "model_name": "OutputModel",
          "model_module_version": "1.0.0",
          "state": {
            "_dom_classes": [],
            "_model_module": "@jupyter-widgets/output",
            "_model_module_version": "1.0.0",
            "_model_name": "OutputModel",
            "_view_count": null,
            "_view_module": "@jupyter-widgets/output",
            "_view_module_version": "1.0.0",
            "_view_name": "OutputView",
            "layout": "IPY_MODEL_4d6fa8650f4b413da3719be955595110",
            "msg_id": "",
            "outputs": [
              {
                "output_type": "display_data",
                "data": {
                  "text/plain": "     Rank        NCTId                                         BriefTitle  \\\n6       7  NCT06145750  Implementing Fragmentomics Into Real World Scr...   \n9      10  NCT03687151                Population-based Cancer Observatory   \n12     13  NCT05881902  THE EFFECT OF CANCER EDUCATION ON WOMEN'S AWAR...   \n13     14  NCT05801965  A Digital Therapeutic Solution for Cancer Pati...   \n18     19  NCT04660097  Alotinib Plus Durvalumab-Platinum-Etoposide in...   \n..    ...          ...                                                ...   \n968   969  NCT04947059  Effectiveness of an Immediate Postoperative In...   \n972   973  NCT03818087   Elevate! : An Elderly Breast Cancer Cohort Study   \n992   993  NCT05796258  Three-pronged Centralized Molecular Analysis t...   \n995   996  NCT05714774  Evaluation of Different Methods of Ultrasound ...   \n997   998  NCT05961514  the Beijing Randomized Study Of Prostate Cance...   \n\n                                             Condition OverallStatus  \\\n6                                          Lung Cancer    Recruiting   \n9                                               Cancer    Recruiting   \n12                                              Cancer    Recruiting   \n13   Cancer|Prostate Cancer|Colorectal Cancer|Lung ...    Recruiting   \n18                               SCLC, Extensive Stage    Recruiting   \n..                                                 ...           ...   \n968                                     Bladder Cancer    Recruiting   \n972                                      Breast Cancer    Recruiting   \n992                                     Thyroid Cancer    Recruiting   \n995                                Prostatic Neoplasms    Recruiting   \n997                                    Prostate Cancer    Recruiting   \n\n                                   LeadSponsorName  \n6                           Delfi Diagnostics Inc.  \n9         Centre Hospitalier Universitaire de Nice  \n12                                    Yeşim KAYAPA  \n13                                 Sidekick Health  \n18                           Henan Cancer Hospital  \n..                                             ...  \n968                         University of Thessaly  \n972                   Dana-Farber Cancer Institute  \n992                  Regina Elena Cancer Institute  \n995                        Hospices Civils de Lyon  \n997  Peking University Cancer Hospital & Institute  \n\n[201 rows x 6 columns]",
                  "text/html": "\n  <div id=\"df-47f4c535-dea2-448f-9d83-98ccdd116d68\" class=\"colab-df-container\">\n    <div>\n<style scoped>\n    .dataframe tbody tr th:only-of-type {\n        vertical-align: middle;\n    }\n\n    .dataframe tbody tr th {\n        vertical-align: top;\n    }\n\n    .dataframe thead th {\n        text-align: right;\n    }\n</style>\n<table border=\"1\" class=\"dataframe\">\n  <thead>\n    <tr style=\"text-align: right;\">\n      <th></th>\n      <th>Rank</th>\n      <th>NCTId</th>\n      <th>BriefTitle</th>\n      <th>Condition</th>\n      <th>OverallStatus</th>\n      <th>LeadSponsorName</th>\n    </tr>\n  </thead>\n  <tbody>\n    <tr>\n      <th>6</th>\n      <td>7</td>\n      <td>NCT06145750</td>\n      <td>Implementing Fragmentomics Into Real World Scr...</td>\n      <td>Lung Cancer</td>\n      <td>Recruiting</td>\n      <td>Delfi Diagnostics Inc.</td>\n    </tr>\n    <tr>\n      <th>9</th>\n      <td>10</td>\n      <td>NCT03687151</td>\n      <td>Population-based Cancer Observatory</td>\n      <td>Cancer</td>\n      <td>Recruiting</td>\n      <td>Centre Hospitalier Universitaire de Nice</td>\n    </tr>\n    <tr>\n      <th>12</th>\n      <td>13</td>\n      <td>NCT05881902</td>\n      <td>THE EFFECT OF CANCER EDUCATION ON WOMEN'S AWAR...</td>\n      <td>Cancer</td>\n      <td>Recruiting</td>\n      <td>Yeşim KAYAPA</td>\n    </tr>\n    <tr>\n      <th>13</th>\n      <td>14</td>\n      <td>NCT05801965</td>\n      <td>A Digital Therapeutic Solution for Cancer Pati...</td>\n      <td>Cancer|Prostate Cancer|Colorectal Cancer|Lung ...</td>\n      <td>Recruiting</td>\n      <td>Sidekick Health</td>\n    </tr>\n    <tr>\n      <th>18</th>\n      <td>19</td>\n      <td>NCT04660097</td>\n      <td>Alotinib Plus Durvalumab-Platinum-Etoposide in...</td>\n      <td>SCLC, Extensive Stage</td>\n      <td>Recruiting</td>\n      <td>Henan Cancer Hospital</td>\n    </tr>\n    <tr>\n      <th>...</th>\n      <td>...</td>\n      <td>...</td>\n      <td>...</td>\n      <td>...</td>\n      <td>...</td>\n      <td>...</td>\n    </tr>\n    <tr>\n      <th>968</th>\n      <td>969</td>\n      <td>NCT04947059</td>\n      <td>Effectiveness of an Immediate Postoperative In...</td>\n      <td>Bladder Cancer</td>\n      <td>Recruiting</td>\n      <td>University of Thessaly</td>\n    </tr>\n    <tr>\n      <th>972</th>\n      <td>973</td>\n      <td>NCT03818087</td>\n      <td>Elevate! : An Elderly Breast Cancer Cohort Study</td>\n      <td>Breast Cancer</td>\n      <td>Recruiting</td>\n      <td>Dana-Farber Cancer Institute</td>\n    </tr>\n    <tr>\n      <th>992</th>\n      <td>993</td>\n      <td>NCT05796258</td>\n      <td>Three-pronged Centralized Molecular Analysis t...</td>\n      <td>Thyroid Cancer</td>\n      <td>Recruiting</td>\n      <td>Regina Elena Cancer Institute</td>\n    </tr>\n    <tr>\n      <th>995</th>\n      <td>996</td>\n      <td>NCT05714774</td>\n      <td>Evaluation of Different Methods of Ultrasound ...</td>\n      <td>Prostatic Neoplasms</td>\n      <td>Recruiting</td>\n      <td>Hospices Civils de Lyon</td>\n    </tr>\n    <tr>\n      <th>997</th>\n      <td>998</td>\n      <td>NCT05961514</td>\n      <td>the Beijing Randomized Study Of Prostate Cance...</td>\n      <td>Prostate Cancer</td>\n      <td>Recruiting</td>\n      <td>Peking University Cancer Hospital &amp; Institute</td>\n    </tr>\n  </tbody>\n</table>\n<p>201 rows × 6 columns</p>\n</div>\n    <div class=\"colab-df-buttons\">\n\n  <div class=\"colab-df-container\">\n    <button class=\"colab-df-convert\" onclick=\"convertToInteractive('df-47f4c535-dea2-448f-9d83-98ccdd116d68')\"\n            title=\"Convert this dataframe to an interactive table.\"\n            style=\"display:none;\">\n\n  <svg xmlns=\"http://www.w3.org/2000/svg\" height=\"24px\" viewBox=\"0 -960 960 960\">\n    <path d=\"M120-120v-720h720v720H120Zm60-500h600v-160H180v160Zm220 220h160v-160H400v160Zm0 220h160v-160H400v160ZM180-400h160v-160H180v160Zm440 0h160v-160H620v160ZM180-180h160v-160H180v160Zm440 0h160v-160H620v160Z\"/>\n  </svg>\n    </button>\n\n  <style>\n    .colab-df-container {\n      display:flex;\n      gap: 12px;\n    }\n\n    .colab-df-convert {\n      background-color: #E8F0FE;\n      border: none;\n      border-radius: 50%;\n      cursor: pointer;\n      display: none;\n      fill: #1967D2;\n      height: 32px;\n      padding: 0 0 0 0;\n      width: 32px;\n    }\n\n    .colab-df-convert:hover {\n      background-color: #E2EBFA;\n      box-shadow: 0px 1px 2px rgba(60, 64, 67, 0.3), 0px 1px 3px 1px rgba(60, 64, 67, 0.15);\n      fill: #174EA6;\n    }\n\n    .colab-df-buttons div {\n      margin-bottom: 4px;\n    }\n\n    [theme=dark] .colab-df-convert {\n      background-color: #3B4455;\n      fill: #D2E3FC;\n    }\n\n    [theme=dark] .colab-df-convert:hover {\n      background-color: #434B5C;\n      box-shadow: 0px 1px 3px 1px rgba(0, 0, 0, 0.15);\n      filter: drop-shadow(0px 1px 2px rgba(0, 0, 0, 0.3));\n      fill: #FFFFFF;\n    }\n  </style>\n\n    <script>\n      const buttonEl =\n        document.querySelector('#df-47f4c535-dea2-448f-9d83-98ccdd116d68 button.colab-df-convert');\n      buttonEl.style.display =\n        google.colab.kernel.accessAllowed ? 'block' : 'none';\n\n      async function convertToInteractive(key) {\n        const element = document.querySelector('#df-47f4c535-dea2-448f-9d83-98ccdd116d68');\n        const dataTable =\n          await google.colab.kernel.invokeFunction('convertToInteractive',\n                                                    [key], {});\n        if (!dataTable) return;\n\n        const docLinkHtml = 'Like what you see? Visit the ' +\n          '<a target=\"_blank\" href=https://colab.research.google.com/notebooks/data_table.ipynb>data table notebook</a>'\n          + ' to learn more about interactive tables.';\n        element.innerHTML = '';\n        dataTable['output_type'] = 'display_data';\n        await google.colab.output.renderOutput(dataTable, element);\n        const docLink = document.createElement('div');\n        docLink.innerHTML = docLinkHtml;\n        element.appendChild(docLink);\n      }\n    </script>\n  </div>\n\n\n<div id=\"df-56216d2d-bcce-47b5-93dc-e86e6103699b\">\n  <button class=\"colab-df-quickchart\" onclick=\"quickchart('df-56216d2d-bcce-47b5-93dc-e86e6103699b')\"\n            title=\"Suggest charts\"\n            style=\"display:none;\">\n\n<svg xmlns=\"http://www.w3.org/2000/svg\" height=\"24px\"viewBox=\"0 0 24 24\"\n     width=\"24px\">\n    <g>\n        <path d=\"M19 3H5c-1.1 0-2 .9-2 2v14c0 1.1.9 2 2 2h14c1.1 0 2-.9 2-2V5c0-1.1-.9-2-2-2zM9 17H7v-7h2v7zm4 0h-2V7h2v10zm4 0h-2v-4h2v4z\"/>\n    </g>\n</svg>\n  </button>\n\n<style>\n  .colab-df-quickchart {\n      --bg-color: #E8F0FE;\n      --fill-color: #1967D2;\n      --hover-bg-color: #E2EBFA;\n      --hover-fill-color: #174EA6;\n      --disabled-fill-color: #AAA;\n      --disabled-bg-color: #DDD;\n  }\n\n  [theme=dark] .colab-df-quickchart {\n      --bg-color: #3B4455;\n      --fill-color: #D2E3FC;\n      --hover-bg-color: #434B5C;\n      --hover-fill-color: #FFFFFF;\n      --disabled-bg-color: #3B4455;\n      --disabled-fill-color: #666;\n  }\n\n  .colab-df-quickchart {\n    background-color: var(--bg-color);\n    border: none;\n    border-radius: 50%;\n    cursor: pointer;\n    display: none;\n    fill: var(--fill-color);\n    height: 32px;\n    padding: 0;\n    width: 32px;\n  }\n\n  .colab-df-quickchart:hover {\n    background-color: var(--hover-bg-color);\n    box-shadow: 0 1px 2px rgba(60, 64, 67, 0.3), 0 1px 3px 1px rgba(60, 64, 67, 0.15);\n    fill: var(--button-hover-fill-color);\n  }\n\n  .colab-df-quickchart-complete:disabled,\n  .colab-df-quickchart-complete:disabled:hover {\n    background-color: var(--disabled-bg-color);\n    fill: var(--disabled-fill-color);\n    box-shadow: none;\n  }\n\n  .colab-df-spinner {\n    border: 2px solid var(--fill-color);\n    border-color: transparent;\n    border-bottom-color: var(--fill-color);\n    animation:\n      spin 1s steps(1) infinite;\n  }\n\n  @keyframes spin {\n    0% {\n      border-color: transparent;\n      border-bottom-color: var(--fill-color);\n      border-left-color: var(--fill-color);\n    }\n    20% {\n      border-color: transparent;\n      border-left-color: var(--fill-color);\n      border-top-color: var(--fill-color);\n    }\n    30% {\n      border-color: transparent;\n      border-left-color: var(--fill-color);\n      border-top-color: var(--fill-color);\n      border-right-color: var(--fill-color);\n    }\n    40% {\n      border-color: transparent;\n      border-right-color: var(--fill-color);\n      border-top-color: var(--fill-color);\n    }\n    60% {\n      border-color: transparent;\n      border-right-color: var(--fill-color);\n    }\n    80% {\n      border-color: transparent;\n      border-right-color: var(--fill-color);\n      border-bottom-color: var(--fill-color);\n    }\n    90% {\n      border-color: transparent;\n      border-bottom-color: var(--fill-color);\n    }\n  }\n</style>\n\n  <script>\n    async function quickchart(key) {\n      const quickchartButtonEl =\n        document.querySelector('#' + key + ' button');\n      quickchartButtonEl.disabled = true;  // To prevent multiple clicks.\n      quickchartButtonEl.classList.add('colab-df-spinner');\n      try {\n        const charts = await google.colab.kernel.invokeFunction(\n            'suggestCharts', [key], {});\n      } catch (error) {\n        console.error('Error during call to suggestCharts:', error);\n      }\n      quickchartButtonEl.classList.remove('colab-df-spinner');\n      quickchartButtonEl.classList.add('colab-df-quickchart-complete');\n    }\n    (() => {\n      let quickchartButtonEl =\n        document.querySelector('#df-56216d2d-bcce-47b5-93dc-e86e6103699b button');\n      quickchartButtonEl.style.display =\n        google.colab.kernel.accessAllowed ? 'block' : 'none';\n    })();\n  </script>\n</div>\n\n    </div>\n  </div>\n"
                },
                "metadata": {}
              }
            ]
          }
        },
        "cc1c4b03752d44ba992553fa5d3b1d04": {
          "model_module": "@jupyter-widgets/base",
          "model_name": "LayoutModel",
          "model_module_version": "1.2.0",
          "state": {
            "_model_module": "@jupyter-widgets/base",
            "_model_module_version": "1.2.0",
            "_model_name": "LayoutModel",
            "_view_count": null,
            "_view_module": "@jupyter-widgets/base",
            "_view_module_version": "1.2.0",
            "_view_name": "LayoutView",
            "align_content": null,
            "align_items": null,
            "align_self": null,
            "border": null,
            "bottom": null,
            "display": null,
            "flex": null,
            "flex_flow": null,
            "grid_area": null,
            "grid_auto_columns": null,
            "grid_auto_flow": null,
            "grid_auto_rows": null,
            "grid_column": null,
            "grid_gap": null,
            "grid_row": null,
            "grid_template_areas": null,
            "grid_template_columns": null,
            "grid_template_rows": null,
            "height": null,
            "justify_content": null,
            "justify_items": null,
            "left": null,
            "margin": null,
            "max_height": null,
            "max_width": null,
            "min_height": null,
            "min_width": null,
            "object_fit": null,
            "object_position": null,
            "order": null,
            "overflow": null,
            "overflow_x": null,
            "overflow_y": null,
            "padding": null,
            "right": null,
            "top": null,
            "visibility": null,
            "width": null
          }
        },
        "3dc82c6fe20346629971d6349af14155": {
          "model_module": "@jupyter-widgets/base",
          "model_name": "LayoutModel",
          "model_module_version": "1.2.0",
          "state": {
            "_model_module": "@jupyter-widgets/base",
            "_model_module_version": "1.2.0",
            "_model_name": "LayoutModel",
            "_view_count": null,
            "_view_module": "@jupyter-widgets/base",
            "_view_module_version": "1.2.0",
            "_view_name": "LayoutView",
            "align_content": null,
            "align_items": null,
            "align_self": null,
            "border": null,
            "bottom": null,
            "display": null,
            "flex": null,
            "flex_flow": null,
            "grid_area": null,
            "grid_auto_columns": null,
            "grid_auto_flow": null,
            "grid_auto_rows": null,
            "grid_column": null,
            "grid_gap": null,
            "grid_row": null,
            "grid_template_areas": null,
            "grid_template_columns": null,
            "grid_template_rows": null,
            "height": null,
            "justify_content": null,
            "justify_items": null,
            "left": null,
            "margin": null,
            "max_height": null,
            "max_width": null,
            "min_height": null,
            "min_width": null,
            "object_fit": null,
            "object_position": null,
            "order": null,
            "overflow": null,
            "overflow_x": null,
            "overflow_y": null,
            "padding": null,
            "right": null,
            "top": null,
            "visibility": null,
            "width": null
          }
        },
        "e46cad969a2c4b59afd8e7b6a8d4ca07": {
          "model_module": "@jupyter-widgets/controls",
          "model_name": "DescriptionStyleModel",
          "model_module_version": "1.5.0",
          "state": {
            "_model_module": "@jupyter-widgets/controls",
            "_model_module_version": "1.5.0",
            "_model_name": "DescriptionStyleModel",
            "_view_count": null,
            "_view_module": "@jupyter-widgets/base",
            "_view_module_version": "1.2.0",
            "_view_name": "StyleView",
            "description_width": ""
          }
        },
        "1f9a2eb1235f47bebe4061db2ec8fe83": {
          "model_module": "@jupyter-widgets/base",
          "model_name": "LayoutModel",
          "model_module_version": "1.2.0",
          "state": {
            "_model_module": "@jupyter-widgets/base",
            "_model_module_version": "1.2.0",
            "_model_name": "LayoutModel",
            "_view_count": null,
            "_view_module": "@jupyter-widgets/base",
            "_view_module_version": "1.2.0",
            "_view_name": "LayoutView",
            "align_content": null,
            "align_items": null,
            "align_self": null,
            "border": null,
            "bottom": null,
            "display": null,
            "flex": null,
            "flex_flow": null,
            "grid_area": null,
            "grid_auto_columns": null,
            "grid_auto_flow": null,
            "grid_auto_rows": null,
            "grid_column": null,
            "grid_gap": null,
            "grid_row": null,
            "grid_template_areas": null,
            "grid_template_columns": null,
            "grid_template_rows": null,
            "height": null,
            "justify_content": null,
            "justify_items": null,
            "left": null,
            "margin": null,
            "max_height": null,
            "max_width": null,
            "min_height": null,
            "min_width": null,
            "object_fit": null,
            "object_position": null,
            "order": null,
            "overflow": null,
            "overflow_x": null,
            "overflow_y": null,
            "padding": null,
            "right": null,
            "top": null,
            "visibility": null,
            "width": null
          }
        },
        "b3f2d1eee2fa45bfb031b9cacdbcf6d6": {
          "model_module": "@jupyter-widgets/controls",
          "model_name": "DescriptionStyleModel",
          "model_module_version": "1.5.0",
          "state": {
            "_model_module": "@jupyter-widgets/controls",
            "_model_module_version": "1.5.0",
            "_model_name": "DescriptionStyleModel",
            "_view_count": null,
            "_view_module": "@jupyter-widgets/base",
            "_view_module_version": "1.2.0",
            "_view_name": "StyleView",
            "description_width": ""
          }
        },
        "4d6fa8650f4b413da3719be955595110": {
          "model_module": "@jupyter-widgets/base",
          "model_name": "LayoutModel",
          "model_module_version": "1.2.0",
          "state": {
            "_model_module": "@jupyter-widgets/base",
            "_model_module_version": "1.2.0",
            "_model_name": "LayoutModel",
            "_view_count": null,
            "_view_module": "@jupyter-widgets/base",
            "_view_module_version": "1.2.0",
            "_view_name": "LayoutView",
            "align_content": null,
            "align_items": null,
            "align_self": null,
            "border": null,
            "bottom": null,
            "display": null,
            "flex": null,
            "flex_flow": null,
            "grid_area": null,
            "grid_auto_columns": null,
            "grid_auto_flow": null,
            "grid_auto_rows": null,
            "grid_column": null,
            "grid_gap": null,
            "grid_row": null,
            "grid_template_areas": null,
            "grid_template_columns": null,
            "grid_template_rows": null,
            "height": null,
            "justify_content": null,
            "justify_items": null,
            "left": null,
            "margin": null,
            "max_height": null,
            "max_width": null,
            "min_height": null,
            "min_width": null,
            "object_fit": null,
            "object_position": null,
            "order": null,
            "overflow": null,
            "overflow_x": null,
            "overflow_y": null,
            "padding": null,
            "right": null,
            "top": null,
            "visibility": null,
            "width": null
          }
        }
      }
    }
  },
  "cells": [
    {
      "cell_type": "code",
      "metadata": {
        "id": "cZL7qugBH1ct"
      },
      "source": [
        "import ipywidgets as widgets\n",
        "from ipywidgets import interact, interact_manual\n",
        "import pandas as pd"
      ],
      "execution_count": null,
      "outputs": []
    },
    {
      "cell_type": "code",
      "metadata": {
        "id": "A14xPtO7IOV3",
        "colab": {
          "base_uri": "https://localhost:8080/"
        },
        "outputId": "8931e6c9-495d-48ba-baf1-f199dc09bc88"
      },
      "source": [
        "!jupyter nbextension enable --py widgetsnbextension"
      ],
      "execution_count": null,
      "outputs": [
        {
          "output_type": "stream",
          "name": "stdout",
          "text": [
            "Enabling notebook extension jupyter-js-widgets/extension...\n",
            "Paths used for configuration of notebook: \n",
            "    \t/root/.jupyter/nbconfig/notebook.json\n",
            "Paths used for configuration of notebook: \n",
            "    \t\n",
            "      - Validating: \u001b[32mOK\u001b[0m\n",
            "Paths used for configuration of notebook: \n",
            "    \t/root/.jupyter/nbconfig/notebook.json\n"
          ]
        }
      ]
    },
    {
      "cell_type": "code",
      "metadata": {
        "id": "DncIQAz-H7ih",
        "colab": {
          "base_uri": "https://localhost:8080/",
          "height": 505,
          "referenced_widgets": [
            "6699c2ad008e448299d53abbf486daed",
            "30513864e39b4d2096609c85440708f7",
            "21cb65a65a204d629e2975836e78367f",
            "3b222b679d344aedabe7f265e61bfc56",
            "cc1c4b03752d44ba992553fa5d3b1d04",
            "3dc82c6fe20346629971d6349af14155",
            "e46cad969a2c4b59afd8e7b6a8d4ca07",
            "1f9a2eb1235f47bebe4061db2ec8fe83",
            "b3f2d1eee2fa45bfb031b9cacdbcf6d6",
            "4d6fa8650f4b413da3719be955595110"
          ]
        },
        "outputId": "a4c9c89e-5481-41a4-b6ee-5ef0e1f05b7a"
      },
      "source": [
        "import pandas as pd\n",
        "cond = input('Enter the disease condition to find clinical trials: ')\n",
        "a = 'https://clinicaltrials.gov/api/query/study_fields?expr='\n",
        "c= '&fields=NCTId%2CBriefTitle%2CCondition%2COverallStatus%2CLeadSponsorName&min_rnk=1&max_rnk=1000&fmt=csv'\n",
        "q=(a+cond+c)\n",
        "qtrials = pd.read_csv(q,skiprows=10)\n",
        "@interact\n",
        "def show_recruiting_studies(column='OverallStatus', x='Recruiting'):\n",
        "    return qtrials.loc[qtrials[column] == x]"
      ],
      "execution_count": null,
      "outputs": [
        {
          "name": "stdout",
          "output_type": "stream",
          "text": [
            "Enter the disease condition to find clinical trials: cancer\n"
          ]
        },
        {
          "output_type": "display_data",
          "data": {
            "text/plain": [
              "interactive(children=(Text(value='OverallStatus', description='column'), Text(value='Recruiting', description=…"
            ],
            "application/vnd.jupyter.widget-view+json": {
              "version_major": 2,
              "version_minor": 0,
              "model_id": "6699c2ad008e448299d53abbf486daed"
            }
          },
          "metadata": {}
        }
      ]
    }
  ]
}